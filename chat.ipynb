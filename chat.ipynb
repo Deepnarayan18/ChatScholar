{
 "cells": [
  {
   "cell_type": "code",
   "execution_count": 9,
   "id": "65e905ab",
   "metadata": {},
   "outputs": [
    {
     "name": "stdout",
     "output_type": "stream",
     "text": [
      "Requirement already satisfied: langchain in c:\\users\\deepg\\anaconda3\\lib\\site-packages (0.3.14)\n",
      "Requirement already satisfied: langchain_community in c:\\users\\deepg\\anaconda3\\lib\\site-packages (0.3.7)\n",
      "Requirement already satisfied: PyYAML>=5.3 in c:\\users\\deepg\\anaconda3\\lib\\site-packages (from langchain) (6.0.2)\n",
      "Requirement already satisfied: numpy<2,>=1.22.4 in c:\\users\\deepg\\anaconda3\\lib\\site-packages (from langchain) (1.23.5)\n",
      "Requirement already satisfied: requests<3,>=2 in c:\\users\\deepg\\anaconda3\\lib\\site-packages (from langchain) (2.32.3)\n",
      "Requirement already satisfied: async-timeout<5.0.0,>=4.0.0 in c:\\users\\deepg\\anaconda3\\lib\\site-packages (from langchain) (4.0.3)\n",
      "Requirement already satisfied: langsmith<0.3,>=0.1.17 in c:\\users\\deepg\\anaconda3\\lib\\site-packages (from langchain) (0.1.143)\n",
      "Requirement already satisfied: tenacity!=8.4.0,<10,>=8.1.0 in c:\\users\\deepg\\anaconda3\\lib\\site-packages (from langchain) (9.0.0)\n",
      "Requirement already satisfied: langchain-core<0.4.0,>=0.3.29 in c:\\users\\deepg\\anaconda3\\lib\\site-packages (from langchain) (0.3.35)\n",
      "Requirement already satisfied: aiohttp<4.0.0,>=3.8.3 in c:\\users\\deepg\\anaconda3\\lib\\site-packages (from langchain) (3.10.11)\n",
      "Requirement already satisfied: SQLAlchemy<3,>=1.4 in c:\\users\\deepg\\anaconda3\\lib\\site-packages (from langchain) (2.0.35)\n",
      "Requirement already satisfied: langchain-text-splitters<0.4.0,>=0.3.3 in c:\\users\\deepg\\anaconda3\\lib\\site-packages (from langchain) (0.3.5)\n",
      "Requirement already satisfied: pydantic<3.0.0,>=2.7.4 in c:\\users\\deepg\\anaconda3\\lib\\site-packages (from langchain) (2.9.2)\n",
      "Requirement already satisfied: httpx-sse<0.5.0,>=0.4.0 in c:\\users\\deepg\\anaconda3\\lib\\site-packages (from langchain_community) (0.4.0)\n",
      "Requirement already satisfied: pydantic-settings<3.0.0,>=2.4.0 in c:\\users\\deepg\\anaconda3\\lib\\site-packages (from langchain_community) (2.6.1)\n",
      "Requirement already satisfied: dataclasses-json<0.7,>=0.5.7 in c:\\users\\deepg\\anaconda3\\lib\\site-packages (from langchain_community) (0.6.7)\n",
      "Requirement already satisfied: frozenlist>=1.1.1 in c:\\users\\deepg\\anaconda3\\lib\\site-packages (from aiohttp<4.0.0,>=3.8.3->langchain) (1.5.0)\n",
      "Requirement already satisfied: multidict<7.0,>=4.5 in c:\\users\\deepg\\anaconda3\\lib\\site-packages (from aiohttp<4.0.0,>=3.8.3->langchain) (6.1.0)\n",
      "Requirement already satisfied: attrs>=17.3.0 in c:\\users\\deepg\\anaconda3\\lib\\site-packages (from aiohttp<4.0.0,>=3.8.3->langchain) (24.2.0)\n",
      "Requirement already satisfied: aiosignal>=1.1.2 in c:\\users\\deepg\\anaconda3\\lib\\site-packages (from aiohttp<4.0.0,>=3.8.3->langchain) (1.3.1)\n",
      "Requirement already satisfied: aiohappyeyeballs>=2.3.0 in c:\\users\\deepg\\anaconda3\\lib\\site-packages (from aiohttp<4.0.0,>=3.8.3->langchain) (2.4.3)\n",
      "Requirement already satisfied: yarl<2.0,>=1.12.0 in c:\\users\\deepg\\anaconda3\\lib\\site-packages (from aiohttp<4.0.0,>=3.8.3->langchain) (1.17.2)\n",
      "Requirement already satisfied: marshmallow<4.0.0,>=3.18.0 in c:\\users\\deepg\\anaconda3\\lib\\site-packages (from dataclasses-json<0.7,>=0.5.7->langchain_community) (3.23.1)\n",
      "Requirement already satisfied: typing-inspect<1,>=0.4.0 in c:\\users\\deepg\\anaconda3\\lib\\site-packages (from dataclasses-json<0.7,>=0.5.7->langchain_community) (0.9.0)\n",
      "Requirement already satisfied: typing-extensions>=4.7 in c:\\users\\deepg\\anaconda3\\lib\\site-packages (from langchain-core<0.4.0,>=0.3.29->langchain) (4.12.2)\n",
      "Requirement already satisfied: packaging<25,>=23.2 in c:\\users\\deepg\\anaconda3\\lib\\site-packages (from langchain-core<0.4.0,>=0.3.29->langchain) (24.2)\n",
      "Requirement already satisfied: jsonpatch<2.0,>=1.33 in c:\\users\\deepg\\anaconda3\\lib\\site-packages (from langchain-core<0.4.0,>=0.3.29->langchain) (1.33)\n",
      "Requirement already satisfied: requests-toolbelt<2.0.0,>=1.0.0 in c:\\users\\deepg\\anaconda3\\lib\\site-packages (from langsmith<0.3,>=0.1.17->langchain) (1.0.0)\n",
      "Requirement already satisfied: httpx<1,>=0.23.0 in c:\\users\\deepg\\anaconda3\\lib\\site-packages (from langsmith<0.3,>=0.1.17->langchain) (0.27.2)\n",
      "Requirement already satisfied: orjson<4.0.0,>=3.9.14 in c:\\users\\deepg\\anaconda3\\lib\\site-packages (from langsmith<0.3,>=0.1.17->langchain) (3.10.11)\n",
      "Requirement already satisfied: pydantic-core==2.23.4 in c:\\users\\deepg\\anaconda3\\lib\\site-packages (from pydantic<3.0.0,>=2.7.4->langchain) (2.23.4)\n",
      "Requirement already satisfied: annotated-types>=0.6.0 in c:\\users\\deepg\\anaconda3\\lib\\site-packages (from pydantic<3.0.0,>=2.7.4->langchain) (0.6.0)\n",
      "Requirement already satisfied: python-dotenv>=0.21.0 in c:\\users\\deepg\\anaconda3\\lib\\site-packages (from pydantic-settings<3.0.0,>=2.4.0->langchain_community) (1.0.1)\n",
      "Requirement already satisfied: urllib3<3,>=1.21.1 in c:\\users\\deepg\\anaconda3\\lib\\site-packages (from requests<3,>=2->langchain) (2.3.0)\n",
      "Requirement already satisfied: idna<4,>=2.5 in c:\\users\\deepg\\anaconda3\\lib\\site-packages (from requests<3,>=2->langchain) (3.4)\n",
      "Requirement already satisfied: certifi>=2017.4.17 in c:\\users\\deepg\\anaconda3\\lib\\site-packages (from requests<3,>=2->langchain) (2025.1.31)\n",
      "Requirement already satisfied: charset-normalizer<4,>=2 in c:\\users\\deepg\\anaconda3\\lib\\site-packages (from requests<3,>=2->langchain) (2.0.4)\n",
      "Requirement already satisfied: greenlet!=0.4.17 in c:\\users\\deepg\\anaconda3\\lib\\site-packages (from SQLAlchemy<3,>=1.4->langchain) (2.0.1)\n",
      "Requirement already satisfied: sniffio in c:\\users\\deepg\\anaconda3\\lib\\site-packages (from httpx<1,>=0.23.0->langsmith<0.3,>=0.1.17->langchain) (1.3.1)\n",
      "Requirement already satisfied: anyio in c:\\users\\deepg\\anaconda3\\lib\\site-packages (from httpx<1,>=0.23.0->langsmith<0.3,>=0.1.17->langchain) (3.5.0)\n",
      "Requirement already satisfied: httpcore==1.* in c:\\users\\deepg\\anaconda3\\lib\\site-packages (from httpx<1,>=0.23.0->langsmith<0.3,>=0.1.17->langchain) (1.0.7)\n",
      "Requirement already satisfied: h11<0.15,>=0.13 in c:\\users\\deepg\\anaconda3\\lib\\site-packages (from httpcore==1.*->httpx<1,>=0.23.0->langsmith<0.3,>=0.1.17->langchain) (0.14.0)\n",
      "Requirement already satisfied: jsonpointer>=1.9 in c:\\users\\deepg\\anaconda3\\lib\\site-packages (from jsonpatch<2.0,>=1.33->langchain-core<0.4.0,>=0.3.29->langchain) (2.1)\n",
      "Requirement already satisfied: mypy-extensions>=0.3.0 in c:\\users\\deepg\\anaconda3\\lib\\site-packages (from typing-inspect<1,>=0.4.0->dataclasses-json<0.7,>=0.5.7->langchain_community) (0.4.3)\n",
      "Requirement already satisfied: propcache>=0.2.0 in c:\\users\\deepg\\anaconda3\\lib\\site-packages (from yarl<2.0,>=1.12.0->aiohttp<4.0.0,>=3.8.3->langchain) (0.2.0)\n"
     ]
    }
   ],
   "source": [
    "!pip install langchain langchain_community"
   ]
  },
  {
   "cell_type": "code",
   "execution_count": 10,
   "id": "541fc1b4",
   "metadata": {},
   "outputs": [],
   "source": [
    "from langchain_community.tools import ArxivQueryRun,WikipediaQueryRun  \n",
    "from langchain_community.utilities import WikipediaAPIWrapper,ArxivAPIWrapper"
   ]
  },
  {
   "cell_type": "code",
   "execution_count": 11,
   "id": "223b2d60",
   "metadata": {},
   "outputs": [
    {
     "name": "stdout",
     "output_type": "stream",
     "text": [
      "Requirement already satisfied: arxiv in c:\\users\\deepg\\anaconda3\\lib\\site-packages (2.2.0)\n",
      "Requirement already satisfied: feedparser~=6.0.10 in c:\\users\\deepg\\anaconda3\\lib\\site-packages (from arxiv) (6.0.11)\n",
      "Requirement already satisfied: requests~=2.32.0 in c:\\users\\deepg\\anaconda3\\lib\\site-packages (from arxiv) (2.32.3)\n",
      "Requirement already satisfied: sgmllib3k in c:\\users\\deepg\\anaconda3\\lib\\site-packages (from feedparser~=6.0.10->arxiv) (1.0.0)\n",
      "Requirement already satisfied: charset-normalizer<4,>=2 in c:\\users\\deepg\\anaconda3\\lib\\site-packages (from requests~=2.32.0->arxiv) (2.0.4)\n",
      "Requirement already satisfied: urllib3<3,>=1.21.1 in c:\\users\\deepg\\anaconda3\\lib\\site-packages (from requests~=2.32.0->arxiv) (2.3.0)\n",
      "Requirement already satisfied: certifi>=2017.4.17 in c:\\users\\deepg\\anaconda3\\lib\\site-packages (from requests~=2.32.0->arxiv) (2025.1.31)\n",
      "Requirement already satisfied: idna<4,>=2.5 in c:\\users\\deepg\\anaconda3\\lib\\site-packages (from requests~=2.32.0->arxiv) (3.4)\n"
     ]
    }
   ],
   "source": [
    "!pip install arxiv"
   ]
  },
  {
   "cell_type": "code",
   "execution_count": 12,
   "id": "28e6634e",
   "metadata": {},
   "outputs": [
    {
     "name": "stdout",
     "output_type": "stream",
     "text": [
      "arxiv\n"
     ]
    }
   ],
   "source": [
    "api_wrapper_arxiv=ArxivAPIWrapper(top_k_results=2,doc_content_chars_max=600) \n",
    "arxiv=ArxivQueryRun(api_wrapper=api_wrapper_arxiv,description=\"Query arxiv papers\") \n",
    "print(arxiv.name)"
   ]
  },
  {
   "cell_type": "code",
   "execution_count": 14,
   "id": "6b46da29",
   "metadata": {},
   "outputs": [
    {
     "data": {
      "text/plain": [
       "\"Published: 2024-07-22\\nTitle: Attention Is All You Need But You Don't Need All Of It For Inference of Large Language Models\\nAuthors: Georgy Tyukin, Gbetondji J-S Dovonon, Jean Kaddour, Pasquale Minervini\\nSummary: The inference demand for LLMs has skyrocketed in recent months, and serving\\nmodels with low latencies remains challenging due to the quadratic input length\\ncomplexity of the attention layers. In this work, we investigate the effect of\\ndropping MLP and attention layers at inference time on the performance of\\nLlama-v2 models. We find that dropping dreeper attention layers only marginally\""
      ]
     },
     "execution_count": 14,
     "metadata": {},
     "output_type": "execute_result"
    }
   ],
   "source": [
    "arxiv.invoke(\"attention is all you need\")\n"
   ]
  },
  {
   "cell_type": "code",
   "execution_count": 33,
   "id": "5a2bb5f9",
   "metadata": {},
   "outputs": [
    {
     "name": "stdout",
     "output_type": "stream",
     "text": [
      "Page: India\n",
      "Summary: India, officially the Republic of India, is a country in South Asia.  It is the seventh-largest country by area; the most populous country from June 2023 onwards; and since its independence in 1947, the world's most populous democracy. Bounded by the Indian Ocean on the south, the Arabian Sea on the southwest, and the Bay of Bengal on the southeast, it shares land borders with Pakistan to the west; China, Nepal, and Bhutan to the north; and Bangladesh and Myanmar to the east. In the Indian Ocean, India is near Sri Lanka and the Maldives; its Andaman and Nicobar Islands sha\n"
     ]
    }
   ],
   "source": [
    "from langchain_community.tools import WikipediaQueryRun\n",
    "from langchain_community.utilities import WikipediaAPIWrapper\n",
    "\n",
    "api_wrapper_wiki = WikipediaAPIWrapper(top_k_results=1, doc_content_chars_max=600)\n",
    "wiki = WikipediaQueryRun(api_wrapper=api_wrapper_wiki, description=\"Query Wikipedia for general knowledge\")\n",
    "print(wiki.invoke(\"India\"))"
   ]
  },
  {
   "cell_type": "code",
   "execution_count": 16,
   "id": "b852ff17",
   "metadata": {},
   "outputs": [],
   "source": [
    "from dotenv import load_dotenv \n",
    "import os\n",
    "\n",
    "load_dotenv() \n",
    "\n",
    "os.environ[\"TAVILY_API_KEY\"] = os.getenv(\"TAVILY_API_KEY\")\n",
    "os.environ[\"GROQ_API_KEY\"] = os.getenv(\"GROQ_API_KEY\")\n"
   ]
  },
  {
   "cell_type": "code",
   "execution_count": 17,
   "id": "0f1372b7",
   "metadata": {},
   "outputs": [],
   "source": [
    "from langchain_community.tools.tavily_search import TavilySearchResults \n",
    "tavily=TavilySearchResults()"
   ]
  },
  {
   "cell_type": "code",
   "execution_count": 18,
   "id": "31a05e41",
   "metadata": {},
   "outputs": [
    {
     "data": {
      "text/plain": [
       "[{'url': 'https://www.artificialintelligence-news.com/',\n",
       "  'content': 'AI News reports on the latest artificial intelligence news and insights. Explore industry trends from the frontline of AI.'},\n",
       " {'url': 'https://www.wsj.com/tech/ai',\n",
       "  'content': 'The latest artificial intelligence news coverage focusing on the technology, tools and the companies building AI technology.'},\n",
       " {'url': 'https://www.nbcnews.com/artificial-intelligence',\n",
       "  'content': \"NBC News NOW\\n\\n02:54\\n\\nA.I. chatbots becoming popular but worry privacy advocates\\n\\nNightly News\\n\\n03:15\\n\\nChristie's begins AI art auction amid backlash\\n\\nNBC News NOW\\n\\n02:16\\n\\nVance says U.S. will be the ‘gold standard’ of AI technology\\n\\n03:36\\n\\nAI startup DeepSeek causes buzz in China but draws global scrutiny over censorship and security\\n\\nNBC News NOW\\n\\nMORE AI NEWS\\n\\nMusk's xAI says Grok's 'white genocide' posts came after unauthorized change to the bot [...] Profile\\n\\nSections\\n\\nLocal\\n\\ntv\\n\\nFeatured\\n\\nMore From NBC\\n\\nFollow NBC News\\n\\nnews Alerts\\n\\nThere are no new alerts at this time\\n\\nARTIFICIAL INTELLIGENCE\\n\\nThe latest news and top stories on artificial intelligence, including ChatGPT, AI Chatbot and Bard.\\n\\nChicago Sun-Times admits summer book guide included fake AI-generated titles\\n\\nNvidia CEO hails Trump's plan to rescind some export curbs on AI chips to China\\n\\nAI NEWS\\n\\nArtificial intelligence [...] Google I/O 2025: Gemini AI, Android XR glasses, Google Beam, Project Astra, Chrome and deep search news\\n\\nArtificial intelligence\\n\\nAI poses a bigger threat to women's work than men's, report says\\n\\nArtificial intelligence\\n\\nAI and education: We want to hear your story\\n\\nArtificial intelligence\\n\\nRepublicans seek to boost AI while tightening grip on social media and online speech\\n\\nTECH NEWS\\n\\nCrypto\\n\\nAt Trump's crypto dinner: Tuxedos, luxury cars and a former NBA star\\n\\nEXCLUSIVE\"},\n",
       " {'url': 'https://ai.google/latest-news/',\n",
       "  'content': 'Tackling the most challenging problems in computer science\\n\\nFrontier AI\\n\\nBuilding the future of AI-powered products and scientific discovery\\n\\nFoundational ML\\n\\nExploring theory and application of ML in language, speech and more\\n\\nHealth\\n\\nTransforming healthcare and medicine with AI\\n\\nQuantum AI\\n\\nBuilding best-in-class quantum computing\\n\\nScience\\n\\nEnabling scientific innovation in biology, chemistry, physics, and earth science\\n\\nSustainability\\n\\nDriving sustainable innovation through technology [...] Exploring theory and application of ML in language, speech and more\\n\\nHealth\\n\\nTransforming healthcare and medicine with AI\\n\\nQuantum AI\\n\\nBuilding best-in-class quantum computing\\n\\nScience\\n\\nEnabling scientific innovation in biology, chemistry, physics, and earth science\\n\\nSustainability\\n\\nDriving sustainable innovation through technology\\n\\nWeâ\\x80\\x99re building and deploying AI responsibly\\n\\nWeâ\\x80\\x99re building and deploying AI responsibly\\n\\nResponsibility and safety [...] Code with AI assistance\\n\\nAccelerate development with integrated AI code assistance\\n\\nTackling the most challenging problems in computer science\\n\\nTackling the most challenging problems in computer science\\n\\nFrontier AI\\n\\nBuilding the future of AI-powered products and scientific discovery\\n\\nFoundational ML\\n\\nExploring theory and application of ML in language, speech and more\\n\\nHealth\\n\\nTransforming healthcare and medicine with AI\\n\\nQuantum AI\\n\\nBuilding best-in-class quantum computing\\n\\nScience'},\n",
       " {'url': 'https://www.reuters.com/technology/artificial-intelligence/',\n",
       "  'content': 'Artificial Intelligence · 10:47 AM PDT. Startup Anthropic says its new AI model can code for hours at a time · 1:00 PM PDT. Google faces DOJ probe over Character.'}]"
      ]
     },
     "execution_count": 18,
     "metadata": {},
     "output_type": "execute_result"
    }
   ],
   "source": [
    "tavily.invoke(\"provide me recent ai news\")"
   ]
  },
  {
   "cell_type": "code",
   "execution_count": 19,
   "id": "6cc7f67b",
   "metadata": {},
   "outputs": [],
   "source": [
    "from langchain_groq import ChatGroq \n",
    "llm=ChatGroq(model=\"qwen-qwq-32b\") \n"
   ]
  },
  {
   "cell_type": "code",
   "execution_count": 35,
   "id": "6958f7de",
   "metadata": {},
   "outputs": [],
   "source": [
    "from langchain_core.tools import tool\n",
    "\n",
    "@tool\n",
    "def arxiv_tool(query: str) -> str:\n",
    "    \"\"\"Search academic papers from Arxiv.\"\"\"\n",
    "    return arxiv.run(query)\n",
    "\n",
    "@tool\n",
    "def wikipedia_tool(query: str) -> str:\n",
    "    \"\"\"Search Wikipedia for general knowledge.\"\"\"\n",
    "    return wiki.run(query)\n",
    "\n",
    "@tool\n",
    "def tavily_tool(query: str) -> str:\n",
    "    \"\"\"Search Tavily for web search results.\"\"\"\n",
    "    return tavily.run(query)\n",
    "\n",
    "tools = [arxiv_tool, wikipedia_tool, tavily_tool]\n",
    "llm_with_tools = llm.bind_tools(tools=tools)"
   ]
  },
  {
   "cell_type": "code",
   "execution_count": 36,
   "id": "51807274",
   "metadata": {},
   "outputs": [
    {
     "data": {
      "text/plain": [
       "AIMessage(content='', additional_kwargs={'tool_calls': [{'id': 'call_pwhq', 'function': {'arguments': '{\"query\":\"latest artificial intelligence research\"}', 'name': 'arxiv_tool'}, 'type': 'function'}]}, response_metadata={'token_usage': {'completion_tokens': 264, 'prompt_tokens': 272, 'total_tokens': 536, 'completion_time': 0.599532361, 'prompt_time': 0.020289425, 'queue_time': 0.37352030999999997, 'total_time': 0.619821786}, 'model_name': 'qwen-qwq-32b', 'system_fingerprint': 'fp_28178d7ff6', 'finish_reason': 'tool_calls', 'logprobs': None}, id='run-af207d92-2113-4406-bd28-64359a409560-0', tool_calls=[{'name': 'arxiv_tool', 'args': {'query': 'latest artificial intelligence research'}, 'id': 'call_pwhq', 'type': 'tool_call'}], usage_metadata={'input_tokens': 272, 'output_tokens': 264, 'total_tokens': 536})"
      ]
     },
     "execution_count": 36,
     "metadata": {},
     "output_type": "execute_result"
    }
   ],
   "source": [
    "llm_with_tools.invoke(\"what is latest research on ai?\")"
   ]
  },
  {
   "cell_type": "markdown",
   "id": "730723d6",
   "metadata": {},
   "source": [
    "WORKFLOW\n"
   ]
  },
  {
   "cell_type": "code",
   "execution_count": 37,
   "id": "521345c6",
   "metadata": {},
   "outputs": [],
   "source": [
    "from typing_extensions import TypedDict \n",
    "from langchain_core.messages import AnyMessage \n",
    "from typing import Annotated \n",
    "from langgraph.graph.message import add_messages"
   ]
  },
  {
   "cell_type": "code",
   "execution_count": 38,
   "id": "5e492370",
   "metadata": {},
   "outputs": [],
   "source": [
    "class State(TypedDict): \n",
    "    messages: Annotated[list[AnyMessage],add_messages]"
   ]
  },
  {
   "cell_type": "code",
   "execution_count": 43,
   "id": "40eeed6d",
   "metadata": {},
   "outputs": [],
   "source": [
    "from IPython.display import Image , display \n",
    "from langgraph.graph import StateGraph,START,END \n",
    "from langgraph.prebuilt import ToolNode \n",
    "from langgraph.prebuilt import tools_condition \n",
    "from langchain_core.messages import HumanMessage"
   ]
  },
  {
   "cell_type": "code",
   "execution_count": 42,
   "id": "ef5bce4d",
   "metadata": {},
   "outputs": [
    {
     "data": {
      "image/png": "[encoded data removed]",
      "text/plain": [
       "<langgraph.graph.state.CompiledStateGraph object at 0x000001C95B859DE0>"
      ]
     },
     "metadata": {},
     "output_type": "display_data"
    }
   ],
   "source": [
    "def tool_calling_llm(state: State): \n",
    "    return {\"messages\": [llm_with_tools.invoke(state[\"messages\"])]}  \n",
    "\n",
    "# Build graph \n",
    "builder = StateGraph(State) \n",
    "builder.add_node(\"tool_calling_llm\", tool_calling_llm) \n",
    "builder.add_node(\"tools\", ToolNode(tools))  \n",
    "\n",
    "# Edges \n",
    "builder.add_edge(START, \"tool_calling_llm\") \n",
    "builder.add_conditional_edges( \n",
    "    \"tool_calling_llm\",\n",
    "    tools_condition,\n",
    "    {\"tools\": \"tools\", END: END}\n",
    ")\n",
    "builder.add_edge(\"tools\", END)\n",
    "\n",
    "# Compile the graph\n",
    "graph = builder.compile() \n",
    "display(graph)"
   ]
  },
  {
   "cell_type": "code",
   "execution_count": 48,
   "id": "1f719d20",
   "metadata": {},
   "outputs": [
    {
     "name": "stdout",
     "output_type": "stream",
     "text": [
      "================================\u001b[1m Human Message \u001b[0m=================================\n",
      "\n",
      "provide me latest news on operation sindoor\n",
      "==================================\u001b[1m Ai Message \u001b[0m==================================\n",
      "Tool Calls:\n",
      "  tavily_tool (call_8fnw)\n",
      " Call ID: call_8fnw\n",
      "  Args:\n",
      "    query: latest news on Operation Sindoor\n",
      "=================================\u001b[1m Tool Message \u001b[0m=================================\n",
      "Name: tavily_tool\n",
      "\n",
      "[{\"url\": \"https://www.rusi.org/explore-our-research/publications/commentary/calibrated-force-operation-sindoor-and-future-indian-deterrence\", \"content\": \"Calibrated Force: Operation Sindoor and the Future of Indian Deterrence\\n\\nCautious response: An Indian policeman and others look at part of an unknown, crashed aircraft in Wuyan near Indian-administered Kashmir's main city of Srinagar, Jammu And Kashmir, India 8 May, 2025.  Image: ZUMA Press Inc / Alamy Stock Photo\\n\\nThe strikes by the Indian Air Force against targets in Pakistan offer a powerful lesson in restraint, and Operation Sindoor adds a new approach to India's strategic toolbox. [...] In response to the terrorist attack in Pahalgam, India launched Operation Sindoor on 7 May. Initially limited to strikes on terrorist-linked targets, the operation expanded over several days, with subsequent phases coinciding with Pakistani retaliation. Within hours of the first sorties, international media had seized on Pakistani allegations that their Chinese-built J-10s shot down up to five Indian aircraft, including three French-made Rafaels. In the absence of official clarification from [...] This conflict illustrates that limited military engagement under the shadow of nuclear weapons can be contained â provided escalation thresholds are mutually understood, signalling remains disciplined, and objectives are narrowly defined.\\n\\nGet a weekly round-up of the latest commentary and research straight into your inbox.\"}, {\"url\": \"https://www.hindustantimes.com/india-news/3000-agniveerspassed-trial-by-fire-during-op-sindoor-101747853935372.html\", \"content\": \"At least 3,000 Agniveers - barely 20 years old and recruited during the last two years - manned critical weapons and systems integral to the army’s hardy air defence (AD) shield activated during Operation Sindoor, which Pakistan couldn’t punch through despite launching wave after wave of missile and drone attacks on multiple Indian military installations, airbases and cities during the May 7-10 clash between the two nuclear-armed neighbours, people aware of the matter said on Wednesday. [...] Last September, the Indo-Russian joint venture BrahMos Aerospace Pvt Ltd, which manufactures the BrahMos supersonic cruise missile, became the first major company to officially announce reservations for Agniveers across various functions. It said at least 15% of technical and general administration vacancies will be reserved for Agniveers for whom at least 50% positions have also been earmarked in security and other administrative functions at various centres where such tasks were earlier [...] India launched Operation Sindoor in the early hours of May 7 when the army and IAF hit nine terror camps inside Pakistan and Pakistan-occupied Kashmir, killing more than 100 terrorists. And between the strikes on the terror sites and the calling of the ceasefire on May 10, the IAF struck multiple military targets in Pakistan.\"}, {\"url\": \"https://indianexpress.com/article/opinion/columns/operation-sindoor-has-rewritten-the-rules-of-engagement-in-the-indian-subcontinent-10021674/\", \"content\": \"On May 7, India launched Operation Sindoor, a calibrated but far-reaching military response after suffering yet another terrorist attack from Pakistan-linked terrorists in Pahalgam. The operation saw precision strikes on key terrorist infrastructure across Pakistan: Targets in Bahawalpur, Muridke, and Muzaffarabad, the places that seemed to have a long association with groups like the Lashkar-e-Taiba and the Jaish-e-Mohammed. But what followed over the next few days would alter the Indian [...] On the night of May 10, India launched a consequential strike deep inside Pakistan. Among the high-value targets were air bases, air defence systems, radars, air assets, and other military targets. Operation Sindoor has rewritten the rules of engagement in the Indian subcontinent. [...] Operation Sindoor had three clear objectives: Military, political, and psychological. In the words of Prime Minister Modi, the aim was to “reduce terrorists to dust”. India claims over 100 terrorists were killed.\\nPolitically, India suspended the Indus Waters Treaty, with renegotiations contingent on Pakistan’s behaviour, signalling that water will now be used alongside military tools. The message was that state-sponsored terror will have consequences beyond the battlefield.\"}, {\"url\": \"https://www.ndtv.com/world-news/responsible-and-proper-japanese-strategic-expert-on-operation-sindoor-8479133\", \"content\": \"In response to the Pahalgam terrorist attack, Indian Armed Forces launched Operation Sindoor in the early hours of May 7, targeting nine terror sites in Pakistan and PoJK, leading to the death of over 100 terrorists affiliated with terror outfits like the Jaish-e-Mohammed (JeM), Lashkar-e-Taiba (LeT) and Hizbul Mujahideen (HM).\"}, {\"url\": \"https://warontherocks.com/2025/05/operation-sindoor-and-the-evolution-of-indias-strategy-against-pakistan/\", \"content\": \"Sindoor has now kicked off a cat and mouse game where the terrorists, previously enjoying safe haven in Pakistan, will take greater measures to hide in peacetime and go to ground in crisis. They also have a very deep bench of cadres and recruits, so in the absence of very large attrition, Indian intelligence services will have to improve their targeteering skills, just as Israel and the United States have recently done, to identify and strike meaningfully important personnel and facilities. [...] Once more unto the breach, India struck inside Pakistan in response to a terrorist attack. Once more, the two sides escalated — again to unprecedented levels — before agreeing to a ceasefire. It is tempting to consider this latest crisis as a somewhat larger replay of the last Indo-Pakistani crisis in 2019, but in fact it signifies a notable shift in India’s military strategy towards Pakistan, which has potentially grave implications for future crises. [...] The latest crisis was triggered by a terrorist attack at Pahalgam on April 22, which was especially provocative — and likely calculated to be so — by targeting specifically Hindu men for point-blank execution. Tensions rose immediately, with consistent exchanges of small-arms fire across the Line of Control that separates Indian- and Pakistani-controlled parts of Kashmir. Then, soon after midnight on May 7, India launched its military response, dubbed Operation Sindoor. It used a mix of\"}]\n"
     ]
    }
   ],
   "source": [
    "messages=graph.invoke({\"messages\":HumanMessage(content=\"provide me latest news on operation sindoor\")}) \n",
    "for m in messages[\"messages\"]: \n",
    "    m.pretty_print()"
   ]
  }
 ],
 "metadata": {
  "kernelspec": {
   "display_name": "base",
   "language": "python",
   "name": "python3"
  },
  "language_info": {
   "codemirror_mode": {
    "name": "ipython",
    "version": 3
   },
   "file_extension": ".py",
   "mimetype": "text/x-python",
   "name": "python",
   "nbconvert_exporter": "python",
   "pygments_lexer": "ipython3",
   "version": "3.10.9"
  }
 },
 "nbformat": 4,
 "nbformat_minor": 5
}
